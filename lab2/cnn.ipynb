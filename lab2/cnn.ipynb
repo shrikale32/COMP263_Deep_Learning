{
 "cells": [
  {
   "cell_type": "markdown",
   "metadata": {},
   "source": [
    "### CNN with Tensorflow and Keras"
   ]
  },
  {
   "cell_type": "code",
   "execution_count": 2,
   "metadata": {},
   "outputs": [],
   "source": [
    "import tensorflow\n",
    "from tensorflow.keras.datasets import mnist\n",
    "from tensorflow.keras.models import Sequential\n",
    "from tensorflow.keras.layers import Dense, Dropout, Flatten\n",
    "from tensorflow.keras.layers import Conv2D, MaxPooling2D"
   ]
  },
  {
   "cell_type": "code",
   "execution_count": 3,
   "metadata": {},
   "outputs": [],
   "source": [
    "#CNN configurations\n",
    "img_width, img_height = 28,28\n",
    "batch_size=250\n",
    "no_epochs=25\n",
    "no_classes=10\n",
    "validation_split=0.2\n",
    "verbosity = 1\n"
   ]
  },
  {
   "cell_type": "code",
   "execution_count": 4,
   "metadata": {},
   "outputs": [
    {
     "name": "stdout",
     "output_type": "stream",
     "text": [
      "Downloading data from https://storage.googleapis.com/tensorflow/tf-keras-datasets/mnist.npz\n",
      "11490434/11490434 [==============================] - 0s 0us/step\n"
     ]
    }
   ],
   "source": [
    "#Load MNIST dataset\n",
    "(input_train,  target_train), (input_test, target_test) = mnist.load_data()"
   ]
  },
  {
   "cell_type": "code",
   "execution_count": 14,
   "metadata": {},
   "outputs": [],
   "source": [
    "#Reshape the data\n",
    "input_train = input_train.reshape(input_train.shape[0], img_width, img_height,1)\n",
    "input_test = input_test.reshape(input_test.shape[0], img_width, img_height, 1)\n",
    "\n",
    "input_shape = (img_width, img_height, 1)\n",
    "\n",
    "#Parse the numbers as floats\n",
    "input_train = input_train.astype('float32')\n",
    "input_test = input_test.astype('float32')\n",
    "\n",
    "#Convert into [0,1] range\n",
    "input_train = input_train / 255\n",
    "input_test = input_test / 255\n"
   ]
  },
  {
   "cell_type": "code",
   "execution_count": 13,
   "metadata": {},
   "outputs": [],
   "source": [
    "#convert target vector into categorical data\n",
    "target_train = tensorflow.keras.utils.to_categorical(target_train, no_classes) #no_classes is 10\n",
    "target_test = tensorflow.keras.utils.to_categorical(target_test, no_classes)"
   ]
  },
  {
   "cell_type": "code",
   "execution_count": 15,
   "metadata": {},
   "outputs": [
    {
     "name": "stderr",
     "output_type": "stream",
     "text": [
      "2022-10-12 19:41:47.455880: I tensorflow/core/common_runtime/pluggable_device/pluggable_device_factory.cc:305] Could not identify NUMA node of platform GPU ID 0, defaulting to 0. Your kernel may not have been built with NUMA support.\n",
      "2022-10-12 19:41:47.457932: I tensorflow/core/common_runtime/pluggable_device/pluggable_device_factory.cc:271] Created TensorFlow device (/job:localhost/replica:0/task:0/device:GPU:0 with 0 MB memory) -> physical PluggableDevice (device: 0, name: METAL, pci bus id: <undefined>)\n"
     ]
    },
    {
     "name": "stdout",
     "output_type": "stream",
     "text": [
      "Metal device set to: Apple M1\n",
      "\n",
      "systemMemory: 8.00 GB\n",
      "maxCacheSize: 2.67 GB\n",
      "\n"
     ]
    }
   ],
   "source": [
    "#Creating model architecture\n",
    "model = Sequential()\n",
    "model.add(Conv2D(32, kernel_size=(3,3), activation='relu', input_shape=input_shape))\n",
    "model.add(MaxPooling2D(pool_size=(2,2)))\n",
    "model.add(Dropout(0.25))\n",
    "model.add(Conv2D(64, kernel_size=(3,3), activation='relu'))\n",
    "model.add(MaxPooling2D(pool_size=(2,2)))\n",
    "model.add(Dropout(0.25))\n",
    "model.add(Flatten())\n",
    "model.add(Dense(256, activation='relu'))\n",
    "model.add(Dense(no_classes, activation='softmax'))\n",
    "\n",
    "#Compile the model\n",
    "model.compile(loss=tensorflow.keras.losses.categorical_crossentropy, optimizer=tensorflow.keras.optimizers.Adam(), metrics=['accuracy'])"
   ]
  },
  {
   "cell_type": "code",
   "execution_count": 18,
   "metadata": {},
   "outputs": [
    {
     "name": "stdout",
     "output_type": "stream",
     "text": [
      "Epoch 1/25\n"
     ]
    },
    {
     "name": "stderr",
     "output_type": "stream",
     "text": [
      "2022-10-12 19:43:24.850059: W tensorflow/core/platform/profile_utils/cpu_utils.cc:128] Failed to get CPU frequency: 0 Hz\n",
      "2022-10-12 19:43:25.778183: I tensorflow/core/grappler/optimizers/custom_graph_optimizer_registry.cc:113] Plugin optimizer for device_type GPU is enabled.\n"
     ]
    },
    {
     "name": "stdout",
     "output_type": "stream",
     "text": [
      "190/192 [============================>.] - ETA: 0s - loss: 1.4627 - accuracy: 0.5210"
     ]
    },
    {
     "name": "stderr",
     "output_type": "stream",
     "text": [
      "2022-10-12 19:43:47.272017: I tensorflow/core/grappler/optimizers/custom_graph_optimizer_registry.cc:113] Plugin optimizer for device_type GPU is enabled.\n"
     ]
    },
    {
     "name": "stdout",
     "output_type": "stream",
     "text": [
      "192/192 [==============================] - 23s 61ms/step - loss: 1.4534 - accuracy: 0.5242 - val_loss: 0.5178 - val_accuracy: 0.8495\n",
      "Epoch 2/25\n",
      "192/192 [==============================] - 5s 26ms/step - loss: 0.4847 - accuracy: 0.8500 - val_loss: 0.3268 - val_accuracy: 0.9022\n",
      "Epoch 3/25\n",
      "192/192 [==============================] - 5s 24ms/step - loss: 0.3468 - accuracy: 0.8932 - val_loss: 0.2515 - val_accuracy: 0.9233\n",
      "Epoch 4/25\n",
      "192/192 [==============================] - 5s 25ms/step - loss: 0.2726 - accuracy: 0.9158 - val_loss: 0.2040 - val_accuracy: 0.9416\n",
      "Epoch 5/25\n",
      "192/192 [==============================] - 5s 29ms/step - loss: 0.2217 - accuracy: 0.9316 - val_loss: 0.1679 - val_accuracy: 0.9507\n",
      "Epoch 6/25\n",
      "192/192 [==============================] - 6s 33ms/step - loss: 0.1866 - accuracy: 0.9424 - val_loss: 0.1372 - val_accuracy: 0.9604\n",
      "Epoch 7/25\n",
      "192/192 [==============================] - 7s 34ms/step - loss: 0.1612 - accuracy: 0.9492 - val_loss: 0.1261 - val_accuracy: 0.9634\n",
      "Epoch 8/25\n",
      "192/192 [==============================] - 5s 27ms/step - loss: 0.1444 - accuracy: 0.9549 - val_loss: 0.1131 - val_accuracy: 0.9662\n",
      "Epoch 9/25\n",
      "192/192 [==============================] - 4s 23ms/step - loss: 0.1307 - accuracy: 0.9604 - val_loss: 0.1018 - val_accuracy: 0.9699\n",
      "Epoch 10/25\n",
      "192/192 [==============================] - 4s 23ms/step - loss: 0.1197 - accuracy: 0.9624 - val_loss: 0.0965 - val_accuracy: 0.9718\n",
      "Epoch 11/25\n",
      "192/192 [==============================] - 4s 23ms/step - loss: 0.1108 - accuracy: 0.9656 - val_loss: 0.0874 - val_accuracy: 0.9734\n",
      "Epoch 12/25\n",
      "192/192 [==============================] - 5s 24ms/step - loss: 0.1062 - accuracy: 0.9674 - val_loss: 0.0824 - val_accuracy: 0.9757\n",
      "Epoch 13/25\n",
      "192/192 [==============================] - 5s 24ms/step - loss: 0.0964 - accuracy: 0.9701 - val_loss: 0.0823 - val_accuracy: 0.9760\n",
      "Epoch 14/25\n",
      "192/192 [==============================] - 4s 23ms/step - loss: 0.0918 - accuracy: 0.9709 - val_loss: 0.0801 - val_accuracy: 0.9748\n",
      "Epoch 15/25\n",
      "192/192 [==============================] - 5s 24ms/step - loss: 0.0888 - accuracy: 0.9719 - val_loss: 0.0760 - val_accuracy: 0.9765\n",
      "Epoch 16/25\n",
      "192/192 [==============================] - 4s 23ms/step - loss: 0.0853 - accuracy: 0.9735 - val_loss: 0.0715 - val_accuracy: 0.9792\n",
      "Epoch 17/25\n",
      "192/192 [==============================] - 5s 23ms/step - loss: 0.0781 - accuracy: 0.9754 - val_loss: 0.0730 - val_accuracy: 0.9782\n",
      "Epoch 18/25\n",
      "192/192 [==============================] - 4s 23ms/step - loss: 0.0752 - accuracy: 0.9763 - val_loss: 0.0689 - val_accuracy: 0.9792\n",
      "Epoch 19/25\n",
      "192/192 [==============================] - 5s 28ms/step - loss: 0.0722 - accuracy: 0.9778 - val_loss: 0.0674 - val_accuracy: 0.9796\n",
      "Epoch 20/25\n",
      "192/192 [==============================] - 5s 26ms/step - loss: 0.0716 - accuracy: 0.9783 - val_loss: 0.0700 - val_accuracy: 0.9793\n",
      "Epoch 21/25\n",
      "192/192 [==============================] - 5s 24ms/step - loss: 0.0674 - accuracy: 0.9788 - val_loss: 0.0632 - val_accuracy: 0.9810\n",
      "Epoch 22/25\n",
      "192/192 [==============================] - 5s 26ms/step - loss: 0.0639 - accuracy: 0.9798 - val_loss: 0.0636 - val_accuracy: 0.9805\n",
      "Epoch 23/25\n",
      "192/192 [==============================] - 4s 23ms/step - loss: 0.0641 - accuracy: 0.9799 - val_loss: 0.0636 - val_accuracy: 0.9805\n",
      "Epoch 24/25\n",
      "192/192 [==============================] - 4s 23ms/step - loss: 0.0601 - accuracy: 0.9811 - val_loss: 0.0646 - val_accuracy: 0.9812\n",
      "Epoch 25/25\n",
      "192/192 [==============================] - 4s 22ms/step - loss: 0.0586 - accuracy: 0.9817 - val_loss: 0.0596 - val_accuracy: 0.9829\n"
     ]
    },
    {
     "data": {
      "text/plain": [
       "<keras.callbacks.History at 0x15f2b9db0>"
      ]
     },
     "execution_count": 18,
     "metadata": {},
     "output_type": "execute_result"
    }
   ],
   "source": [
    "#Fit data to model\n",
    "model.fit(input_train, target_train, batch_size=batch_size, epochs=no_epochs, verbose=verbosity, validation_split=validation_split)"
   ]
  },
  {
   "cell_type": "code",
   "execution_count": 19,
   "metadata": {},
   "outputs": [
    {
     "name": "stderr",
     "output_type": "stream",
     "text": [
      "2022-10-12 19:46:50.904064: I tensorflow/core/grappler/optimizers/custom_graph_optimizer_registry.cc:113] Plugin optimizer for device_type GPU is enabled.\n"
     ]
    },
    {
     "name": "stdout",
     "output_type": "stream",
     "text": [
      "Test loss: 0.0501098707318306 / Test accuracy: 0.9843000173568726\n"
     ]
    }
   ],
   "source": [
    "#Generate generalization metrics\n",
    "score= model.evaluate(input_test, target_test, verbose=0)\n",
    "print(f'Test loss: {score[0]} / Test accuracy: {score[1]}')\n"
   ]
  }
 ],
 "metadata": {
  "kernelspec": {
   "display_name": "Python 3.10.1 64-bit",
   "language": "python",
   "name": "python3"
  },
  "language_info": {
   "codemirror_mode": {
    "name": "ipython",
    "version": 3
   },
   "file_extension": ".py",
   "mimetype": "text/x-python",
   "name": "python",
   "nbconvert_exporter": "python",
   "pygments_lexer": "ipython3",
   "version": "3.10.1"
  },
  "orig_nbformat": 4,
  "vscode": {
   "interpreter": {
    "hash": "aee8b7b246df8f9039afb4144a1f6fd8d2ca17a180786b69acc140d282b71a49"
   }
  }
 },
 "nbformat": 4,
 "nbformat_minor": 2
}
